{
 "cells": [
  {
   "cell_type": "code",
   "execution_count": 1,
   "metadata": {},
   "outputs": [],
   "source": [
    "# Matrix Manipulation\n",
    "import numpy as np\n",
    "import pandas as pd\n",
    "\n",
    "# Utility operations\n",
    "from numpy import log as ln\n",
    "import math\n",
    "import random\n",
    "\n",
    "# Visualization\n",
    "import matplotlib.pyplot as plt\n",
    "from matplotlib.pyplot import figure\n",
    "import seaborn as sns\n",
    "\n",
    "# Saving objects\n",
    "import pickle\n",
    "\n",
    "# Optimization\n",
    "from functools import partial\n",
    "from itertools import chain"
   ]
  },
  {
   "cell_type": "markdown",
   "metadata": {},
   "source": [
    "# Utility Functions"
   ]
  },
  {
   "cell_type": "code",
   "execution_count": 2,
   "metadata": {},
   "outputs": [],
   "source": [
    "class HDCModels():\n",
    "    @classmethod\n",
    "    def save_model(self, model, filename):\n",
    "        with open(filename, 'wb') as outp:\n",
    "            pickle.dump(model, outp, pickle.HIGHEST_PROTOCOL)\n",
    "    \n",
    "    @classmethod\n",
    "    def load_model(self, filename):\n",
    "        with open(filename, 'rb') as inp:\n",
    "            return pickle.load(inp)\n",
    "\n",
    "class SparseHDC():\n",
    "    # Cyclic shifts the input hypervector arr by shift_count\n",
    "    @classmethod\n",
    "    def cyclic_shift(self, arr, shift_count=1):\n",
    "        return np.concatenate((arr[-shift_count:],arr[:-shift_count]))\n",
    "    \n",
    "    @classmethod\n",
    "    def dot(self, hv1, hv2):\n",
    "        return np.sum(np.logical_and(hv1, hv2))\n",
    "    \n",
    "    @classmethod\n",
    "    def disp(self, hv):\n",
    "        s = math.sqrt(len(hv))\n",
    "        if (s-int(s)):\n",
    "            return \"Must be square\"\n",
    "        \n",
    "        return np.array(hv).reshape(int(s),int(s))\n",
    "\n",
    "    # Generate a random sparse HV with dimension and sparsity\n",
    "    @classmethod\n",
    "    def generate_random_sparse_HV(self, dim = 10000, sparsity=0.3):\n",
    "        percent_sparsity = int(100*sparsity)\n",
    "        return np.vectorize(SparseHDC._generation_threshold)(np.random.randint(101,size=dim), percent_sparsity)\n",
    "    \n",
    "    # Generate count number of sparse HVs with dimension and sparsity\n",
    "    @classmethod\n",
    "    def generate_random_sparse_HVs(self, count=10, dim = 10000, sparsity=0.3):\n",
    "        return [SparseHDC.generate_random_sparse_HV(dim, sparsity) for i in range(0,count)]\n",
    "    \n",
    "    # Generate a sparse HV with exact sparsity\n",
    "    @classmethod\n",
    "    def generate_sparse_HV(self, dim=10000, sparsity=0.3):\n",
    "        hv = np.repeat(0,dim)\n",
    "        hv[random.sample(range(1,dim),int(sparsity*dim))]=1\n",
    "        return hv\n",
    "    \n",
    "    # Generate count number of sparse HV with dimension and exact sparsity\n",
    "    @classmethod\n",
    "    def generate_sparse_HVs(self, count=10, dim=10000, sparsity=0.3):\n",
    "        return [SparseHDC.generate_sparse_HV(dim, sparsity) for i in range(0,count)]\n",
    "    \n",
    "    # PRIVATE METHODS\n",
    "    \n",
    "    # Returns 1 if num < percent_sparsity where 0<=num<=100\n",
    "    @classmethod\n",
    "    def _generation_threshold(self, num, percent_sparsity = 30):\n",
    "        return 1 if num<percent_sparsity else 0"
   ]
  },
  {
   "cell_type": "markdown",
   "metadata": {},
   "source": [
    "# Datasets"
   ]
  },
  {
   "cell_type": "code",
   "execution_count": 3,
   "metadata": {},
   "outputs": [],
   "source": [
    "class ISOLET():\n",
    "    def __init__ (self, train_filepath = 'isolet1+2+3+4.csv', test_filepath = 'isolet5.csv'):\n",
    "        self.train = pd.read_csv(train_filepath, header=None)\n",
    "        self.train_X = self.train[[i for i in range(0,617)]]\n",
    "        self.train_y = self.train[617]\n",
    "        self.test = pd.read_csv(test_filepath, header=None)\n",
    "        self.test_X = self.test[[i for i in range(0,617)]]\n",
    "        self.test_y = self.test[617]"
   ]
  },
  {
   "cell_type": "markdown",
   "metadata": {},
   "source": [
    "# Continuous Item Memory Generators"
   ]
  },
  {
   "cell_type": "code",
   "execution_count": 4,
   "metadata": {},
   "outputs": [],
   "source": [
    "class LinearCIM():\n",
    "    def __init__(self, sparsity=0.3, dim=10000):\n",
    "        self.sparsity = sparsity\n",
    "        self.dim = dim\n",
    "    \n",
    "    def modify_specs(self, sparsity=None, dim=None):\n",
    "        self.sparsity = sparsity if sparsity else self.sparsity\n",
    "        self.dim = dim if dim else self.dim\n",
    "\n",
    "    def generate(self, keys):\n",
    "        seed = SparseHDC.generate_sparse_HV(sparsity=self.sparsity, dim=self.dim)\n",
    "        tracker = pd.Series(np.copy(seed))\n",
    "        bit_step = int(np.sum(seed)/(len(keys)-1))\n",
    "        hvs = [seed]\n",
    "\n",
    "        for i in range(1,len(keys)):\n",
    "            next_hv = np.copy(hvs[i-1])\n",
    "\n",
    "            # TURN OFF K bits\n",
    "            turnoff_index = random.sample(list(tracker[tracker==1].index), bit_step)\n",
    "            tracker[turnoff_index]=-1 #Update to cannot be touched\n",
    "            next_hv[turnoff_index]=0 #Turn them off from previous hv\n",
    "\n",
    "            # TURN ON K bits\n",
    "            turnon_index = random.sample(list(tracker[tracker==0].index), bit_step)\n",
    "            tracker[turnon_index]=-1 #Update to cannot be touched\n",
    "            next_hv[turnon_index]=1 #Turn them on\n",
    "\n",
    "            hvs.append(next_hv)\n",
    "            \n",
    "        return dict(zip(keys,hvs))"
   ]
  },
  {
   "cell_type": "markdown",
   "metadata": {},
   "source": [
    "# Binders"
   ]
  },
  {
   "cell_type": "code",
   "execution_count": 5,
   "metadata": {},
   "outputs": [],
   "source": [
    "# Binding Method\n",
    "    \n",
    "class MBitSignatureBinder(): #(Imani et.al. 2019)\n",
    "    def __init__(self, base_hv_count=617, level_hv_count=10, range_multiplier=10):\n",
    "        self.base_shifts = random.sample(range(0,base_hv_count*range_multiplier), base_hv_count)\n",
    "        self.level_shifts = random.sample(range(0,level_hv_count*range_multiplier), level_hv_count)\n",
    "        \n",
    "    def bind(self, base, base_no, level, level_no):\n",
    "        return ((SparseHDC.cyclic_shift(base, self.base_shifts[base_no]) + SparseHDC.cyclic_shift(level, self.level_shifts[level_no]))>1).astype(int)"
   ]
  },
  {
   "cell_type": "code",
   "execution_count": 6,
   "metadata": {},
   "outputs": [
    {
     "name": "stdout",
     "output_type": "stream",
     "text": [
      "Number of ones: 89\n",
      "Correctness: True\n"
     ]
    }
   ],
   "source": [
    "# MBitSignatureBinder Test\n",
    "\n",
    "mbit = MBitSignatureBinder(617, 10, range_multiplier=1)\n",
    "base = SparseHDC.generate_sparse_HV(sparsity=0.1)\n",
    "level = SparseHDC.generate_sparse_HV(sparsity=0.1)\n",
    "base_shifted = np.roll(base,mbit.base_shifts[0])\n",
    "level_shifted =  np.roll(level,mbit.level_shifts[0])\n",
    "expected_bind = ((base_shifted + level_shifted)>1).astype(int)\n",
    "print(\"Number of ones: {}\".format(np.sum(expected_bind)))\n",
    "print(\"Correctness: {}\".format(np.sum(mbit.bind(base,0,level,0)==expected_bind)==10000))"
   ]
  },
  {
   "cell_type": "code",
   "execution_count": 7,
   "metadata": {},
   "outputs": [],
   "source": [
    "#Segmented Permutation\n",
    "#segment the HV into segment_count segments, then iterate through each segment of A, make the indeces into an L length array\n",
    "#then, iterate through each segment of B, shift the segment (np.roll) by the index number.\n",
    "#append to the resultant vector as we go.\n",
    "\n",
    "#make sure dimensionality D is divisible by segment count\n",
    "class SegmentedPermutationBind():\n",
    "    def __init__(self, segment_count = 10):\n",
    "        self.segment_count = segment_count\n",
    "        \n",
    "    def bind(self, A,B):\n",
    "        z = []\n",
    "        for x in range(self.segment_count):\n",
    "            #z = np.append(z,np.roll(B[x*(len(B)//self.segment_count):x*(len(B)//self.segment_count)+(len(B)//self.segment_count)],np.argmax(A[x*(len(B)//self.segment_count):x*(len(B)//self.segment_count)+(len(B)//self.segment_count)])))\n",
    "            z = np.append(z,SparseHDC.cyclic_shift(B[x*(len(B)//self.segment_count):x*(len(B)//self.segment_count)+(len(B)//self.segment_count)],np.argmax(A[x*(len(B)//self.segment_count):x*(len(B)//self.segment_count)+(len(B)//self.segment_count)])))\n",
    "        return z.astype(int)"
   ]
  },
  {
   "cell_type": "markdown",
   "metadata": {},
   "source": [
    "# Sparsifiers"
   ]
  },
  {
   "cell_type": "code",
   "execution_count": 8,
   "metadata": {},
   "outputs": [],
   "source": [
    "# Sparsifying Method\n",
    "\n",
    "class ThresholdingSparsifier():\n",
    "    def __init__(self, percent_max_val=0.3, max_val=617):\n",
    "        self.threshold = int(percent_max_val*max_val)\n",
    "    \n",
    "    def sparsify(self, hv, threshold=None):\n",
    "        self.threshold = threshold if threshold else self.threshold\n",
    "        return np.array((hv>self.threshold)).astype(np.int)"
   ]
  },
  {
   "cell_type": "markdown",
   "metadata": {},
   "source": [
    "# Encoding Algorithms\n",
    "\n",
    "## 1. Sparse Feature Encoder\n",
    "   based on feature encoding with the operation $$X = [B_1*L_1 + B_2*L_2...]$$\n",
    "\n",
    "   ### Constructor Parameters: <br />\n",
    "   <ul>\n",
    "       <li><b>cim_generator</b> : Algorithm to generator the continuous item memory level vectors <br /></li>\n",
    "       <li><b>binder</b> : Algorithm for binding two vectors <br /></li>\n",
    "       <li><b>sparsifier</b> : Algorithm to convert accumulation hypervector back to sparse vector <br /></li>\n",
    "   </ul>\n",
    "   <br />\n",
    "   Default parameters are set for the ISOLET dataset <br />\n",
    "   <br />"
   ]
  },
  {
   "cell_type": "code",
   "execution_count": 9,
   "metadata": {},
   "outputs": [],
   "source": [
    "# ENCODING ALGORITHMS\n",
    "\n",
    "class Sparse_FeatureEncoder():\n",
    "    def __init__(self, cim_generator, binder, sparsifier, base_hvs, cont_item_mem, qlevels, sparsity=0.3, feature_count=617, qlevel_count=10, dim=10000):\n",
    "        self.cim = cim_generator \n",
    "        self.binder = binder\n",
    "        self.sparsifier = sparsifier\n",
    "        self.feature_count = feature_count\n",
    "        self.qlevel_count = qlevel_count\n",
    "        self.sparsity = sparsity\n",
    "        self.dim = dim    \n",
    "        #self.base_hvs = SparseHDC.generate_sparse_HVs(count=feature_count, sparsity=sparsity, dim=dim)\n",
    "        self.base_hvs = base_hvs #added this and base_hvs as input parameter to try and make constant base and cim HVs\n",
    "        self.cont_item_mem = cont_item_mem\n",
    "        self.qlevels = qlevels\n",
    "        \n",
    "        #Setup functions\n",
    "        #self.qlevels = self.quantization_levels()\n",
    "        #self.setup_CIM() commenting this out to try and make constant base and cim HVs\n",
    "    \n",
    "    def change_sparsity(sparsity=0.3):\n",
    "        pass\n",
    "\n",
    "    def encode(self, features, return_accumulated=False):\n",
    "        if len(features)!=self.feature_count:\n",
    "            return \"Invalid number of features\"\n",
    "\n",
    "        #Quantize\n",
    "        quantized = np.vectorize(self.quantize)(features)\n",
    "        level_nos = [self.qlevels.index(q) for q in quantized]\n",
    "        \n",
    "        #Map to CIM\n",
    "        mapped_to_hvs = [self.cim[v] for v in quantized]\n",
    "        \n",
    "         # Bind and Accumulate (Summation of Base*Level)\n",
    "        accumulated_hv = np.repeat(0,self.dim)\n",
    "        for i in range(0,self.feature_count):\n",
    "             accumulated_hv += self.binder.bind(self.base_hvs[i], mapped_to_hvs[i])\n",
    "        \n",
    "        thresholded_hv = self.sparsifier.sparsify(accumulated_hv)\n",
    "\n",
    "        return accumulated_hv if return_accumulated else thresholded_hv\n",
    "    \n",
    "    # ENCAPSULATED DEPENDENCY METHODS\n",
    "\n",
    "    def setup_CIM(self):\n",
    "        self.cim = self.cim.generate(self.qlevels)\n",
    "\n",
    "    # ENCODING HELPERS\n",
    "    def quantization_levels(self, min_val=-1, max_val=1, precision=5):\n",
    "        step = (max_val - min_val) / (self.qlevel_count-1)\n",
    "        return list(np.arange(min_val, max_val+step, step).round(precision))\n",
    "            \n",
    "    def quantize(self, value):\n",
    "        return min(self.qlevels, key=lambda x:abs(x-value))"
   ]
  },
  {
   "cell_type": "code",
   "execution_count": 10,
   "metadata": {},
   "outputs": [],
   "source": [
    "def test_basehv_distances(encoder):\n",
    "    dists = []\n",
    "\n",
    "    for i in range(0,len(encoder.base_hvs)):\n",
    "        for j in range(i+1,len(encoder.base_hvs)):\n",
    "                dists.append(SparseHDC.dot(encoder.base_hvs[i], encoder.base_hvs[j]))\n",
    "\n",
    "    plt.plot(np.array(dists)/int(encoder.sparsity*encoder.dim))\n",
    "    plt.title(\"Pairwise Distance Between Base HVs\")\n",
    "    plt.ylim(0,1)"
   ]
  },
  {
   "cell_type": "code",
   "execution_count": 11,
   "metadata": {},
   "outputs": [],
   "source": [
    "# END-TO-END\n",
    "\n",
    "class HDC_Classifier():\n",
    "    def __init__(self, encoder, ACC_THR = 125, training_data=ISOLET()):\n",
    "        self.encoder = encoder\n",
    "        self.data = training_data\n",
    "        self.class_hvs = {}\n",
    "        self.training_encoded = {}\n",
    "        self.test_encoded = None\n",
    "        self.ACC_THR = ACC_THR\n",
    "\n",
    "    def train(self, save_encodes=True):      \n",
    "        # Group rows by class\n",
    "        classes = self.train_y().unique()\n",
    "        class_rows = {}\n",
    "        class_hvs = {}\n",
    "        \n",
    "        # Rows in each class\n",
    "        class_indexes = {}\n",
    "        for class_ in classes:\n",
    "            class_indexes[class_] = list(self.train_y()[self.train_y()==class_].index)\n",
    "\n",
    "        for class_ in classes:\n",
    "            class_rows[class_] = np.array(list(self.train_X().loc[class_indexes[class_]].itertuples(index=False, name=None)))\n",
    "        \n",
    "        encoded = {}\n",
    "        for class_ in classes:\n",
    "            print(\"Encoding... {}% \".format(round(100*class_/classes[-1],2)))\n",
    "            encoded[class_] = pd.Series(map(self.encoder.encode, class_rows[class_]))\n",
    "        if save_encodes:\n",
    "            self.training_encoded = encoded\n",
    "        \n",
    "        accumulated = np.array([np.sum(encoded[class_]) for class_ in classes])\n",
    "        class_sparsifier = ThresholdingSparsifier(percent_max_val = self.ACC_THR/240, max_val=240)\n",
    "        thresholded = pd.Series(map(class_sparsifier.sparsify, accumulated))\n",
    "        thresholded.index = range(1,27)\n",
    "        \n",
    "        self.class_hvs = dict(thresholded)\n",
    "        \n",
    "        return \"Done\"\n",
    "    \n",
    "    def test(self):\n",
    "        encoded_test = pd.Series(map(self.encoder.encode, np.array(self.test_X())))\n",
    "        predictions = pd.Series(map(self.query, encoded_test))\n",
    "        return np.sum(predictions == self.test_y())/len(self.test_y())\n",
    "\n",
    "    # HELPER FUNCTIONS\n",
    "    def query(self, query_hv):\n",
    "        d = dict([[class_, SparseHDC.dot(class_hv, query_hv)] for class_,class_hv in self.class_hvs.items()])\n",
    "        return max(d, key=d.get)\n",
    "    \n",
    "    def train_X(self):\n",
    "        return self.data.train_X\n",
    "    \n",
    "    def train_y(self):\n",
    "        return self.data.train_y\n",
    "    \n",
    "    def test_X(self):\n",
    "        return self.data.test_X\n",
    "    \n",
    "    def test_y(self):\n",
    "        return self.data.test_y"
   ]
  },
  {
   "cell_type": "code",
   "execution_count": 12,
   "metadata": {},
   "outputs": [],
   "source": [
    "### OPTIMIZATION RESULTS\n",
    "#Encoding from 168ms to 77.2ms @10k bits\n",
    "#Training time reduced from 80mins to 9mins\n",
    "\n",
    "#-68ms for binding <br>\n",
    "# ~-2ms for removing from function\n",
    "\n",
    "# 6.0ms for quantization\n",
    "\n",
    "# 0.5ms mapping\n",
    "\n",
    "# 0.2ms for sparsification\n",
    "#   ~-0.5ms by removing from function"
   ]
  },
  {
   "cell_type": "markdown",
   "metadata": {},
   "source": [
    "# MODEL DEVELOPMENT\n",
    "\n",
    "### CONVERT NEXT THREE CELLS TO CODE AND RUN AS NEEDED"
   ]
  },
  {
   "cell_type": "code",
   "execution_count": 13,
   "metadata": {},
   "outputs": [],
   "source": [
    "# RUN THIS ONCE\n",
    "\n",
    "isolet = ISOLET()\n",
    "\n",
    "# Rows in each class\n",
    "class_indexes = {}\n",
    "classes = range(1,27)\n",
    "for class_ in classes:\n",
    "    class_indexes[class_] = list(isolet.train_y[isolet.train_y==class_].index)\n",
    "\n",
    "# Rows for each class\n",
    "# class_rows[class_no][sample_no], class_no corresponds to A-Z but 1-26 instead\n",
    "class_rows = {}\n",
    "for class_ in classes:\n",
    "    class_rows[class_] = np.array(list(isolet.train_X.loc[class_indexes[class_]].itertuples(index=False, name=None)))"
   ]
  },
  {
   "cell_type": "code",
   "execution_count": 14,
   "metadata": {},
   "outputs": [],
   "source": [
    "# UTILITY FUNCTIONS\n",
    "\n",
    "def setup_feature_encoder(cim_generator, base_hvs, cont_item_mem, qlevels, dim=10000, sparsity=0.3, percent_max_val=0.45, M=10):\n",
    "    #cim_generator = LinearCIM(sparsity=sparsity, dim=dim)\n",
    "    cim_generator = cim_generator #added this for constant cim/base hvs\n",
    "    binder = SegmentedPermutationBind(segment_count = 10)\n",
    "    sparsifier = ThresholdingSparsifier(percent_max_val=percent_max_val)\n",
    "    return Sparse_FeatureEncoder(\n",
    "                cim_generator = cim_generator,\n",
    "                binder = binder,\n",
    "                base_hvs = base_hvs, #added to try for constant base and cim\n",
    "                cont_item_mem = cont_item_mem, #added to try for constant base and cim\n",
    "                qlevels = qlevels, #added to try for constant base and cim\n",
    "                sparsifier = sparsifier,\n",
    "                sparsity = sparsity,\n",
    "                dim = dim,\n",
    "                qlevel_count = M\n",
    "            )\n",
    "\n",
    "def interclass_dot_product(class_hvs, wrt=1.0):\n",
    "    return np.array([SparseHDC.dot(hv,class_hvs[wrt]) for c,hv in class_hvs.items()])\n",
    "\n",
    "def plot_encode_sparsities(encode, target_sparsity=0.3, app_title=\"\"):\n",
    "    classes = list(encode.keys())\n",
    "    dim = len(encode[classes[0]][0])\n",
    "    no_of_ones = []\n",
    "    \n",
    "    for class_ in classes:\n",
    "        for row in encode[class_]:\n",
    "            no_of_ones.append(np.sum(row))\n",
    "            \n",
    "    plt.plot(np.array(no_of_ones)/dim)\n",
    "    plt.title(\"Sparsity of Encoded Vectors {}\".format(app_title))\n",
    "    plt.xlabel('sample no.')\n",
    "    plt.ylabel('sparsity')"
   ]
  },
  {
   "cell_type": "code",
   "execution_count": 15,
   "metadata": {},
   "outputs": [],
   "source": [
    "# CHANGE PARAMETERS HERE\n",
    "\n",
    "#dim = 10000\n",
    "#sparsity = 0.05\n",
    "#ENC_THR = 65\n",
    "#ACC_THR = 78\n",
    "#M = 10\n",
    "\n",
    "#feature_encoder = setup_feature_encoder(dim=dim, sparsity=sparsity, percent_max_val=ENC_THR/617, M=M)\n",
    "#classifier = HDC_Classifier(encoder=feature_encoder, ACC_THR=ACC_THR)\n",
    "#classifier.train()\n",
    "# # Save models in the format \"HDC_Classifier_<CIM Method>_<Binding Method>_<Sparsifying Method>_S<sparsity>_D<dimensions>.pkl\"\n",
    "# # e.g. HDCModels.save_model(model=classifier, filename='HDC_Classifier_IM_BIND_TRESH_S0.x_Dxxxxx.pkl')\n",
    "# HDCModels.save_model(model=classifier, filename='HDC_Classifier_LCIM_MBIT_TRESH_S0.3_D10000.pkl')"
   ]
  },
  {
   "cell_type": "markdown",
   "metadata": {},
   "source": [
    "# TESTING"
   ]
  },
  {
   "cell_type": "code",
   "execution_count": 16,
   "metadata": {},
   "outputs": [],
   "source": [
    "# LOAD EXISTING MODEL\n",
    "\n",
    "# classifier = HDCModels.load_model(filename='models/HDC_Classifier12011122_LCIM_MBIT_TH_S0.1_D10000.pkl')"
   ]
  },
  {
   "cell_type": "code",
   "execution_count": 17,
   "metadata": {},
   "outputs": [],
   "source": [
    "#classifier.test()\n",
    "\n",
    "# Sparsity   M    Accuracy\n",
    "#   0.05     10     50%\n",
    "#   0.05     10     44%(not np.roll)\n",
    "#   0.05     10     46.6%(not np.roll)\n",
    "#   0.05     10     47.4% (np.roll),\n",
    "#   0.05     10     55.3% (not np.roll)\n",
    "#   0.05     10     49.3% (not np.roll)\n",
    "\n",
    "#   0.05     100    38.7%\n",
    "#   0.05     100    37.1%\n",
    "#   0.05     100    45.2%\n",
    "#   0.05     100    34.3%\n",
    "#   0.05     100    34.3%\n",
    "#   0.05     100    38.5%\n",
    "\n",
    "#   0.01     10     11.1%\n",
    "#   0.01     10     15.5%\n",
    "#   0.01     10     9.9%\n",
    "\n",
    "#   0.01     100    46.6% (ENC_THR = 20; ACC_THR = 72)\n",
    "#   0.01     100    31.2% (ENC_THR = 20; ACC_THR = 72)\n",
    "#   0.01     100    25.6% (ENC_THR = 20; ACC_THR = 72)\n",
    "#   0.01     100    37.5% (ENC_THR = 20; ACC_THR = 72)\n",
    "#   0.01     100    43% (ENC_THR = 20; ACC_THR = 72)\n",
    "\n",
    "#   0.1      10     40.3%\n",
    "#   0.1      100    47.9%\n",
    "\n",
    "#   0.3      10     29.4%\n",
    "#   0.3      100    32.8%\n",
    "\n",
    "#   0.1      100    12.5%(ENC_THR = 20%, ACC_THR = 90%)\n",
    "#   0.1      10     15%(ENC_THR = 25%, ACC_THR = 90%)\n",
    "\n",
    "#   0.05     10     42.7%(ENC_THR = 70, ACC_THR same)\n",
    "#   0.05     10     41.6%(ENC_THR = 70, ACC_THR same)\n",
    "#   0.05     10     45.6%(ENC_THR = 65, ACC_THR same)\n",
    "#   0.05     10     56.5%(ENC_THR = 55, ACC_THR same)\n",
    "#   0.05     10     60.6%(ENC_THR = 45, ACC_THR same)\n",
    "#   0.05     10     63.6%(ENC_THR = 35, ACC_THR same)\n",
    "#   0.05     10     65.2%(ENC_THR = 35, ACC_THR same)\n",
    "#   0.05     10     63.9%(ENC_THR = 25, ACC_THR same)\n",
    "#   0.05     10     63.4%(ENC_THR = 15, ACC_THR same)\n",
    "#   0.05     10     56.6%(ENC_THR = 5, ACC_THR same)\n",
    "#   0.05     10     35.9%(ENC_THR = 1, ACC_THR same)\n",
    "\n",
    "#   0.05     10     51.4%(ENC_THR = 65, ACC_THR = 5%)\n",
    "#   0.05     10     45.7%(ENC_THR = 65, ACC_THR = 10%)\n",
    "#   0.05     10     43.4%(ENC_THR = 65, ACC_THR = 20%)\n",
    "#   0.05     10     48.9%(ENC_THR = 65, ACC_THR = 30%)\n",
    "#   0.05     10     43.1%(ENC_THR = 65, ACC_THR = 40%)\n",
    "#   0.05     10     41.6%(ENC_THR = 65, ACC_THR = 50%)\n",
    "#   0.05     10     41.9%(ENC_THR = 65, ACC_THR = 60%)\n",
    "#   0.05     10     32.4%(ENC_THR = 65, ACC_THR = 70%)\n",
    "#   0.05     10     26.5%(ENC_THR = 65, ACC_THR = 80%)\n",
    "\n",
    "#   0.05     10     63.3%(ENC_THR = 35, ACC_THR 5%)\n",
    "#   0.05     10     67.4%(ENC_THR = 35, ACC_THR 10%)\n",
    "#   0.05     10     64.5%(ENC_THR = 35, ACC_THR 20%)\n",
    "#   0.05     10     63.5%(ENC_THR = 35, ACC_THR 30%)\n",
    "#   0.05     10     61.2%(ENC_THR = 35, ACC_THR 40%)\n",
    "#   0.05     10     63.2%(ENC_THR = 35, ACC_THR 50%)\n",
    "#   0.05     10     57.7%(ENC_THR = 35, ACC_THR 60%)\n",
    "#   0.05     10     57.3%(ENC_THR = 35, ACC_THR 70%)\n",
    "#   0.05     10     49%(ENC_THR = 35, ACC_THR 80%)\n",
    "\n",
    "#   0.01     100    41.1% (ENC_THR = 20; ACC_THR = 25%)\n",
    "#   0.01     100    35.7% (ENC_THR = 20; ACC_THR = 25%)\n",
    "#   0.01     100    43.6% (ENC_THR = 20; ACC_THR = 27.5%)\n",
    "#   0.01     100    36.2% (ENC_THR = 20; ACC_THR = 30%)\n",
    "#   0.01     100    38.4% (ENC_THR = 20; ACC_THR = 30%)\n",
    "#   0.01     100    35.9% (ENC_THR = 20; ACC_THR = 32.5%)\n",
    "#   0.01     100    40.9% (ENC_THR = 20; ACC_THR = 35%)\n",
    "\n",
    "\n",
    "#   0.01     100    62.7% (ENC_THR = 15; ACC_THR = 30%)\n",
    "\n",
    "#same base and cim\n",
    "#   0.01     100    5.4% (ENC_THR = 35; ACC_THR = 72)\n",
    "#   0.01     100    4.3% (ENC_THR = 30; ACC_THR = 72)\n",
    "#   0.01     100    12% (ENC_THR = 25; ACC_THR = 72)\n",
    "#   0.01     100    43% (ENC_THR = 20; ACC_THR = 72)\n",
    "#   0.01     100    67.9% (ENC_THR = 15; ACC_THR = 30%)\n",
    "#   0.01     100    79.3% (ENC_THR = 10; ACC_THR = 30%)\n",
    "#   0.01     100    83.2% (ENC_THR = 5; ACC_THR = 30%)\n",
    "#   0.01     100    75.9% (ENC_THR = 1; ACC_THR = 30%)\n",
    "\n",
    "#todo: 1% sparse; try lower ACC_THR but higher ENC_THR (if lower ACC_THR gives better accuracy)"
   ]
  },
  {
   "cell_type": "code",
   "execution_count": 18,
   "metadata": {},
   "outputs": [
    {
     "name": "stdout",
     "output_type": "stream",
     "text": [
      "Encoding... 3.85% \n"
     ]
    },
    {
     "name": "stderr",
     "output_type": "stream",
     "text": [
      "<ipython-input-8-8a03033bd188>:9: DeprecationWarning: `np.int` is a deprecated alias for the builtin `int`. To silence this warning, use `int` by itself. Doing this will not modify any behavior and is safe. When replacing `np.int`, you may wish to use e.g. `np.int64` or `np.int32` to specify the precision. If you wish to review your current use, check the release note link for additional information.\n",
      "Deprecated in NumPy 1.20; for more details and guidance: https://numpy.org/devdocs/release/1.20.0-notes.html#deprecations\n",
      "  return np.array((hv>self.threshold)).astype(np.int)\n"
     ]
    },
    {
     "name": "stdout",
     "output_type": "stream",
     "text": [
      "Encoding... 7.69% \n",
      "Encoding... 11.54% \n",
      "Encoding... 15.38% \n",
      "Encoding... 19.23% \n",
      "Encoding... 23.08% \n",
      "Encoding... 26.92% \n",
      "Encoding... 30.77% \n",
      "Encoding... 34.62% \n",
      "Encoding... 38.46% \n",
      "Encoding... 42.31% \n",
      "Encoding... 46.15% \n",
      "Encoding... 50.0% \n",
      "Encoding... 53.85% \n",
      "Encoding... 57.69% \n",
      "Encoding... 61.54% \n",
      "Encoding... 65.38% \n",
      "Encoding... 69.23% \n",
      "Encoding... 73.08% \n",
      "Encoding... 76.92% \n",
      "Encoding... 80.77% \n",
      "Encoding... 84.62% \n",
      "Encoding... 88.46% \n",
      "Encoding... 92.31% \n",
      "Encoding... 96.15% \n",
      "Encoding... 100.0% \n"
     ]
    },
    {
     "data": {
      "text/plain": [
       "0.4304041051956382"
      ]
     },
     "execution_count": 18,
     "metadata": {},
     "output_type": "execute_result"
    }
   ],
   "source": [
    "dim = 10000\n",
    "sparsity = 0.01\n",
    "ENC_THR = 20\n",
    "ACC_THR = 72\n",
    "M = 100\n",
    "\n",
    "#repeat this process onwards if changing sparsity or M (should change base and cim)\n",
    "base_hypervectors = SparseHDC.generate_sparse_HVs(count=617, sparsity=sparsity, dim=dim)\n",
    "cont_item_memory_gen = LinearCIM(sparsity=sparsity, dim=dim)\n",
    "\n",
    "step_1 = (1 - (-1)) / (M-1)\n",
    "quantize_levels =list(np.arange(-1, 1+step_1, step_1).round(5)) \n",
    "cont_item_memory = cont_item_memory_gen.generate(quantize_levels)\n",
    "\n",
    "#repeat this process onwards if changing ENC_THR (shouldn't change base and cim)\n",
    "feature_encoder = setup_feature_encoder(cim_generator = cont_item_memory, dim=dim, sparsity=sparsity, percent_max_val=ENC_THR/617, M=M, base_hvs = base_hypervectors, cont_item_mem = cont_item_memory, qlevels = quantize_levels)\n",
    "\n",
    "#repeat this process onwards if changing ACC_THR (shouldn't change base and cim)\n",
    "classifier = HDC_Classifier(encoder=feature_encoder, ACC_THR=ACC_THR)\n",
    "\n",
    "classifier.train()\n",
    "classifier.test()"
   ]
  },
  {
   "cell_type": "code",
   "execution_count": 20,
   "metadata": {},
   "outputs": [
    {
     "name": "stdout",
     "output_type": "stream",
     "text": [
      "Encoding... 3.85% \n"
     ]
    },
    {
     "name": "stderr",
     "output_type": "stream",
     "text": [
      "<ipython-input-8-8a03033bd188>:9: DeprecationWarning: `np.int` is a deprecated alias for the builtin `int`. To silence this warning, use `int` by itself. Doing this will not modify any behavior and is safe. When replacing `np.int`, you may wish to use e.g. `np.int64` or `np.int32` to specify the precision. If you wish to review your current use, check the release note link for additional information.\n",
      "Deprecated in NumPy 1.20; for more details and guidance: https://numpy.org/devdocs/release/1.20.0-notes.html#deprecations\n",
      "  return np.array((hv>self.threshold)).astype(np.int)\n"
     ]
    },
    {
     "name": "stdout",
     "output_type": "stream",
     "text": [
      "Encoding... 7.69% \n",
      "Encoding... 11.54% \n",
      "Encoding... 15.38% \n",
      "Encoding... 19.23% \n",
      "Encoding... 23.08% \n",
      "Encoding... 26.92% \n",
      "Encoding... 30.77% \n",
      "Encoding... 34.62% \n",
      "Encoding... 38.46% \n",
      "Encoding... 42.31% \n",
      "Encoding... 46.15% \n",
      "Encoding... 50.0% \n",
      "Encoding... 53.85% \n",
      "Encoding... 57.69% \n",
      "Encoding... 61.54% \n",
      "Encoding... 65.38% \n",
      "Encoding... 69.23% \n",
      "Encoding... 73.08% \n",
      "Encoding... 76.92% \n",
      "Encoding... 80.77% \n",
      "Encoding... 84.62% \n",
      "Encoding... 88.46% \n",
      "Encoding... 92.31% \n",
      "Encoding... 96.15% \n",
      "Encoding... 100.0% \n",
      "Wall time: 17min 15s\n"
     ]
    },
    {
     "data": {
      "text/plain": [
       "0.6786401539448365"
      ]
     },
     "execution_count": 20,
     "metadata": {},
     "output_type": "execute_result"
    }
   ],
   "source": [
    "%%time\n",
    "\n",
    "ENC_THR = 15\n",
    "\n",
    "\n",
    "feature_encoder = setup_feature_encoder(cim_generator = cont_item_memory, dim=dim, sparsity=sparsity, percent_max_val=ENC_THR/617, M=M, base_hvs = base_hypervectors, cont_item_mem = cont_item_memory, qlevels = quantize_levels)\n",
    "\n",
    "\n",
    "classifier = HDC_Classifier(encoder=feature_encoder, ACC_THR=ACC_THR)\n",
    "\n",
    "classifier.train()\n",
    "classifier.test()\n"
   ]
  },
  {
   "cell_type": "code",
   "execution_count": 21,
   "metadata": {},
   "outputs": [
    {
     "name": "stdout",
     "output_type": "stream",
     "text": [
      "Encoding... 3.85% \n"
     ]
    },
    {
     "name": "stderr",
     "output_type": "stream",
     "text": [
      "<ipython-input-8-8a03033bd188>:9: DeprecationWarning: `np.int` is a deprecated alias for the builtin `int`. To silence this warning, use `int` by itself. Doing this will not modify any behavior and is safe. When replacing `np.int`, you may wish to use e.g. `np.int64` or `np.int32` to specify the precision. If you wish to review your current use, check the release note link for additional information.\n",
      "Deprecated in NumPy 1.20; for more details and guidance: https://numpy.org/devdocs/release/1.20.0-notes.html#deprecations\n",
      "  return np.array((hv>self.threshold)).astype(np.int)\n"
     ]
    },
    {
     "name": "stdout",
     "output_type": "stream",
     "text": [
      "Encoding... 7.69% \n",
      "Encoding... 11.54% \n",
      "Encoding... 15.38% \n",
      "Encoding... 19.23% \n",
      "Encoding... 23.08% \n",
      "Encoding... 26.92% \n",
      "Encoding... 30.77% \n",
      "Encoding... 34.62% \n",
      "Encoding... 38.46% \n",
      "Encoding... 42.31% \n",
      "Encoding... 46.15% \n",
      "Encoding... 50.0% \n",
      "Encoding... 53.85% \n",
      "Encoding... 57.69% \n",
      "Encoding... 61.54% \n",
      "Encoding... 65.38% \n",
      "Encoding... 69.23% \n",
      "Encoding... 73.08% \n",
      "Encoding... 76.92% \n",
      "Encoding... 80.77% \n",
      "Encoding... 84.62% \n",
      "Encoding... 88.46% \n",
      "Encoding... 92.31% \n",
      "Encoding... 96.15% \n",
      "Encoding... 100.0% \n",
      "Wall time: 17min 20s\n"
     ]
    },
    {
     "data": {
      "text/plain": [
       "0.7928159076330982"
      ]
     },
     "execution_count": 21,
     "metadata": {},
     "output_type": "execute_result"
    }
   ],
   "source": [
    "%%time\n",
    "\n",
    "ENC_THR = 10\n",
    "\n",
    "\n",
    "feature_encoder = setup_feature_encoder(cim_generator = cont_item_memory, dim=dim, sparsity=sparsity, percent_max_val=ENC_THR/617, M=M, base_hvs = base_hypervectors, cont_item_mem = cont_item_memory, qlevels = quantize_levels)\n",
    "\n",
    "\n",
    "classifier = HDC_Classifier(encoder=feature_encoder, ACC_THR=ACC_THR)\n",
    "\n",
    "classifier.train()\n",
    "classifier.test()"
   ]
  },
  {
   "cell_type": "code",
   "execution_count": 22,
   "metadata": {},
   "outputs": [
    {
     "name": "stdout",
     "output_type": "stream",
     "text": [
      "Encoding... 3.85% \n"
     ]
    },
    {
     "name": "stderr",
     "output_type": "stream",
     "text": [
      "<ipython-input-8-8a03033bd188>:9: DeprecationWarning: `np.int` is a deprecated alias for the builtin `int`. To silence this warning, use `int` by itself. Doing this will not modify any behavior and is safe. When replacing `np.int`, you may wish to use e.g. `np.int64` or `np.int32` to specify the precision. If you wish to review your current use, check the release note link for additional information.\n",
      "Deprecated in NumPy 1.20; for more details and guidance: https://numpy.org/devdocs/release/1.20.0-notes.html#deprecations\n",
      "  return np.array((hv>self.threshold)).astype(np.int)\n"
     ]
    },
    {
     "name": "stdout",
     "output_type": "stream",
     "text": [
      "Encoding... 7.69% \n",
      "Encoding... 11.54% \n",
      "Encoding... 15.38% \n",
      "Encoding... 19.23% \n",
      "Encoding... 23.08% \n",
      "Encoding... 26.92% \n",
      "Encoding... 30.77% \n",
      "Encoding... 34.62% \n",
      "Encoding... 38.46% \n",
      "Encoding... 42.31% \n",
      "Encoding... 46.15% \n",
      "Encoding... 50.0% \n",
      "Encoding... 53.85% \n",
      "Encoding... 57.69% \n",
      "Encoding... 61.54% \n",
      "Encoding... 65.38% \n",
      "Encoding... 69.23% \n",
      "Encoding... 73.08% \n",
      "Encoding... 76.92% \n",
      "Encoding... 80.77% \n",
      "Encoding... 84.62% \n",
      "Encoding... 88.46% \n",
      "Encoding... 92.31% \n",
      "Encoding... 96.15% \n",
      "Encoding... 100.0% \n",
      "Wall time: 16min 29s\n"
     ]
    },
    {
     "data": {
      "text/plain": [
       "0.8319435535599743"
      ]
     },
     "execution_count": 22,
     "metadata": {},
     "output_type": "execute_result"
    }
   ],
   "source": [
    "%%time\n",
    "\n",
    "ENC_THR = 5\n",
    "\n",
    "\n",
    "feature_encoder = setup_feature_encoder(cim_generator = cont_item_memory, dim=dim, sparsity=sparsity, percent_max_val=ENC_THR/617, M=M, base_hvs = base_hypervectors, cont_item_mem = cont_item_memory, qlevels = quantize_levels)\n",
    "\n",
    "\n",
    "classifier = HDC_Classifier(encoder=feature_encoder, ACC_THR=ACC_THR)\n",
    "\n",
    "classifier.train()\n",
    "classifier.test()"
   ]
  },
  {
   "cell_type": "code",
   "execution_count": 23,
   "metadata": {},
   "outputs": [
    {
     "name": "stdout",
     "output_type": "stream",
     "text": [
      "Encoding... 3.85% \n"
     ]
    },
    {
     "name": "stderr",
     "output_type": "stream",
     "text": [
      "<ipython-input-8-8a03033bd188>:9: DeprecationWarning: `np.int` is a deprecated alias for the builtin `int`. To silence this warning, use `int` by itself. Doing this will not modify any behavior and is safe. When replacing `np.int`, you may wish to use e.g. `np.int64` or `np.int32` to specify the precision. If you wish to review your current use, check the release note link for additional information.\n",
      "Deprecated in NumPy 1.20; for more details and guidance: https://numpy.org/devdocs/release/1.20.0-notes.html#deprecations\n",
      "  return np.array((hv>self.threshold)).astype(np.int)\n"
     ]
    },
    {
     "name": "stdout",
     "output_type": "stream",
     "text": [
      "Encoding... 7.69% \n",
      "Encoding... 11.54% \n",
      "Encoding... 15.38% \n",
      "Encoding... 19.23% \n",
      "Encoding... 23.08% \n",
      "Encoding... 26.92% \n",
      "Encoding... 30.77% \n",
      "Encoding... 34.62% \n",
      "Encoding... 38.46% \n",
      "Encoding... 42.31% \n",
      "Encoding... 46.15% \n",
      "Encoding... 50.0% \n",
      "Encoding... 53.85% \n",
      "Encoding... 57.69% \n",
      "Encoding... 61.54% \n",
      "Encoding... 65.38% \n",
      "Encoding... 69.23% \n",
      "Encoding... 73.08% \n",
      "Encoding... 76.92% \n",
      "Encoding... 80.77% \n",
      "Encoding... 84.62% \n",
      "Encoding... 88.46% \n",
      "Encoding... 92.31% \n",
      "Encoding... 96.15% \n",
      "Encoding... 100.0% \n",
      "Wall time: 16min 41s\n"
     ]
    },
    {
     "data": {
      "text/plain": [
       "0.758819756254009"
      ]
     },
     "execution_count": 23,
     "metadata": {},
     "output_type": "execute_result"
    }
   ],
   "source": [
    "%%time\n",
    "\n",
    "ENC_THR = 1\n",
    "\n",
    "\n",
    "feature_encoder = setup_feature_encoder(cim_generator = cont_item_memory, dim=dim, sparsity=sparsity, percent_max_val=ENC_THR/617, M=M, base_hvs = base_hypervectors, cont_item_mem = cont_item_memory, qlevels = quantize_levels)\n",
    "\n",
    "\n",
    "classifier = HDC_Classifier(encoder=feature_encoder, ACC_THR=ACC_THR)\n",
    "\n",
    "classifier.train()\n",
    "classifier.test()"
   ]
  },
  {
   "cell_type": "code",
   "execution_count": 24,
   "metadata": {},
   "outputs": [
    {
     "name": "stdout",
     "output_type": "stream",
     "text": [
      "Encoding... 3.85% \n"
     ]
    },
    {
     "name": "stderr",
     "output_type": "stream",
     "text": [
      "<ipython-input-8-8a03033bd188>:9: DeprecationWarning: `np.int` is a deprecated alias for the builtin `int`. To silence this warning, use `int` by itself. Doing this will not modify any behavior and is safe. When replacing `np.int`, you may wish to use e.g. `np.int64` or `np.int32` to specify the precision. If you wish to review your current use, check the release note link for additional information.\n",
      "Deprecated in NumPy 1.20; for more details and guidance: https://numpy.org/devdocs/release/1.20.0-notes.html#deprecations\n",
      "  return np.array((hv>self.threshold)).astype(np.int)\n"
     ]
    },
    {
     "name": "stdout",
     "output_type": "stream",
     "text": [
      "Encoding... 7.69% \n",
      "Encoding... 11.54% \n",
      "Encoding... 15.38% \n",
      "Encoding... 19.23% \n",
      "Encoding... 23.08% \n",
      "Encoding... 26.92% \n",
      "Encoding... 30.77% \n",
      "Encoding... 34.62% \n",
      "Encoding... 38.46% \n",
      "Encoding... 42.31% \n",
      "Encoding... 46.15% \n",
      "Encoding... 50.0% \n",
      "Encoding... 53.85% \n",
      "Encoding... 57.69% \n",
      "Encoding... 61.54% \n",
      "Encoding... 65.38% \n",
      "Encoding... 69.23% \n",
      "Encoding... 73.08% \n",
      "Encoding... 76.92% \n",
      "Encoding... 80.77% \n",
      "Encoding... 84.62% \n",
      "Encoding... 88.46% \n",
      "Encoding... 92.31% \n",
      "Encoding... 96.15% \n",
      "Encoding... 100.0% \n",
      "Wall time: 16min 36s\n"
     ]
    },
    {
     "data": {
      "text/plain": [
       "0.1205901218729955"
      ]
     },
     "execution_count": 24,
     "metadata": {},
     "output_type": "execute_result"
    }
   ],
   "source": [
    "%%time\n",
    "\n",
    "ENC_THR = 25\n",
    "\n",
    "\n",
    "feature_encoder = setup_feature_encoder(cim_generator = cont_item_memory, dim=dim, sparsity=sparsity, percent_max_val=ENC_THR/617, M=M, base_hvs = base_hypervectors, cont_item_mem = cont_item_memory, qlevels = quantize_levels)\n",
    "\n",
    "\n",
    "classifier = HDC_Classifier(encoder=feature_encoder, ACC_THR=ACC_THR)\n",
    "\n",
    "classifier.train()\n",
    "classifier.test()"
   ]
  },
  {
   "cell_type": "code",
   "execution_count": 25,
   "metadata": {},
   "outputs": [
    {
     "name": "stdout",
     "output_type": "stream",
     "text": [
      "Encoding... 3.85% \n"
     ]
    },
    {
     "name": "stderr",
     "output_type": "stream",
     "text": [
      "<ipython-input-8-8a03033bd188>:9: DeprecationWarning: `np.int` is a deprecated alias for the builtin `int`. To silence this warning, use `int` by itself. Doing this will not modify any behavior and is safe. When replacing `np.int`, you may wish to use e.g. `np.int64` or `np.int32` to specify the precision. If you wish to review your current use, check the release note link for additional information.\n",
      "Deprecated in NumPy 1.20; for more details and guidance: https://numpy.org/devdocs/release/1.20.0-notes.html#deprecations\n",
      "  return np.array((hv>self.threshold)).astype(np.int)\n"
     ]
    },
    {
     "name": "stdout",
     "output_type": "stream",
     "text": [
      "Encoding... 7.69% \n",
      "Encoding... 11.54% \n",
      "Encoding... 15.38% \n",
      "Encoding... 19.23% \n",
      "Encoding... 23.08% \n",
      "Encoding... 26.92% \n",
      "Encoding... 30.77% \n",
      "Encoding... 34.62% \n",
      "Encoding... 38.46% \n",
      "Encoding... 42.31% \n",
      "Encoding... 46.15% \n",
      "Encoding... 50.0% \n",
      "Encoding... 53.85% \n",
      "Encoding... 57.69% \n",
      "Encoding... 61.54% \n",
      "Encoding... 65.38% \n",
      "Encoding... 69.23% \n",
      "Encoding... 73.08% \n",
      "Encoding... 76.92% \n",
      "Encoding... 80.77% \n",
      "Encoding... 84.62% \n",
      "Encoding... 88.46% \n",
      "Encoding... 92.31% \n",
      "Encoding... 96.15% \n",
      "Encoding... 100.0% \n",
      "Wall time: 16min 58s\n"
     ]
    },
    {
     "data": {
      "text/plain": [
       "0.04361770365618987"
      ]
     },
     "execution_count": 25,
     "metadata": {},
     "output_type": "execute_result"
    }
   ],
   "source": [
    "%%time\n",
    "\n",
    "ENC_THR = 30\n",
    "\n",
    "\n",
    "feature_encoder = setup_feature_encoder(cim_generator = cont_item_memory, dim=dim, sparsity=sparsity, percent_max_val=ENC_THR/617, M=M, base_hvs = base_hypervectors, cont_item_mem = cont_item_memory, qlevels = quantize_levels)\n",
    "\n",
    "\n",
    "classifier = HDC_Classifier(encoder=feature_encoder, ACC_THR=ACC_THR)\n",
    "\n",
    "classifier.train()\n",
    "classifier.test()"
   ]
  },
  {
   "cell_type": "code",
   "execution_count": 26,
   "metadata": {},
   "outputs": [
    {
     "name": "stdout",
     "output_type": "stream",
     "text": [
      "Encoding... 3.85% \n"
     ]
    },
    {
     "name": "stderr",
     "output_type": "stream",
     "text": [
      "<ipython-input-8-8a03033bd188>:9: DeprecationWarning: `np.int` is a deprecated alias for the builtin `int`. To silence this warning, use `int` by itself. Doing this will not modify any behavior and is safe. When replacing `np.int`, you may wish to use e.g. `np.int64` or `np.int32` to specify the precision. If you wish to review your current use, check the release note link for additional information.\n",
      "Deprecated in NumPy 1.20; for more details and guidance: https://numpy.org/devdocs/release/1.20.0-notes.html#deprecations\n",
      "  return np.array((hv>self.threshold)).astype(np.int)\n"
     ]
    },
    {
     "name": "stdout",
     "output_type": "stream",
     "text": [
      "Encoding... 7.69% \n",
      "Encoding... 11.54% \n",
      "Encoding... 15.38% \n",
      "Encoding... 19.23% \n",
      "Encoding... 23.08% \n",
      "Encoding... 26.92% \n",
      "Encoding... 30.77% \n",
      "Encoding... 34.62% \n",
      "Encoding... 38.46% \n",
      "Encoding... 42.31% \n",
      "Encoding... 46.15% \n",
      "Encoding... 50.0% \n",
      "Encoding... 53.85% \n",
      "Encoding... 57.69% \n",
      "Encoding... 61.54% \n",
      "Encoding... 65.38% \n",
      "Encoding... 69.23% \n",
      "Encoding... 73.08% \n",
      "Encoding... 76.92% \n",
      "Encoding... 80.77% \n",
      "Encoding... 84.62% \n",
      "Encoding... 88.46% \n",
      "Encoding... 92.31% \n",
      "Encoding... 96.15% \n",
      "Encoding... 100.0% \n",
      "Wall time: 17min 56s\n"
     ]
    },
    {
     "data": {
      "text/plain": [
       "0.05388069275176395"
      ]
     },
     "execution_count": 26,
     "metadata": {},
     "output_type": "execute_result"
    }
   ],
   "source": [
    "%%time\n",
    "\n",
    "ENC_THR = 35\n",
    "\n",
    "\n",
    "feature_encoder = setup_feature_encoder(cim_generator = cont_item_memory, dim=dim, sparsity=sparsity, percent_max_val=ENC_THR/617, M=M, base_hvs = base_hypervectors, cont_item_mem = cont_item_memory, qlevels = quantize_levels)\n",
    "\n",
    "\n",
    "classifier = HDC_Classifier(encoder=feature_encoder, ACC_THR=ACC_THR)\n",
    "\n",
    "classifier.train()\n",
    "classifier.test()"
   ]
  },
  {
   "cell_type": "code",
   "execution_count": 27,
   "metadata": {},
   "outputs": [
    {
     "name": "stdout",
     "output_type": "stream",
     "text": [
      "Encoding... 3.85% \n"
     ]
    },
    {
     "name": "stderr",
     "output_type": "stream",
     "text": [
      "<ipython-input-8-8a03033bd188>:9: DeprecationWarning: `np.int` is a deprecated alias for the builtin `int`. To silence this warning, use `int` by itself. Doing this will not modify any behavior and is safe. When replacing `np.int`, you may wish to use e.g. `np.int64` or `np.int32` to specify the precision. If you wish to review your current use, check the release note link for additional information.\n",
      "Deprecated in NumPy 1.20; for more details and guidance: https://numpy.org/devdocs/release/1.20.0-notes.html#deprecations\n",
      "  return np.array((hv>self.threshold)).astype(np.int)\n"
     ]
    },
    {
     "name": "stdout",
     "output_type": "stream",
     "text": [
      "Encoding... 7.69% \n",
      "Encoding... 11.54% \n",
      "Encoding... 15.38% \n",
      "Encoding... 19.23% \n",
      "Encoding... 23.08% \n",
      "Encoding... 26.92% \n",
      "Encoding... 30.77% \n",
      "Encoding... 34.62% \n",
      "Encoding... 38.46% \n",
      "Encoding... 42.31% \n",
      "Encoding... 46.15% \n",
      "Encoding... 50.0% \n",
      "Encoding... 53.85% \n",
      "Encoding... 57.69% \n",
      "Encoding... 61.54% \n",
      "Encoding... 65.38% \n",
      "Encoding... 69.23% \n",
      "Encoding... 73.08% \n",
      "Encoding... 76.92% \n",
      "Encoding... 80.77% \n",
      "Encoding... 84.62% \n",
      "Encoding... 88.46% \n",
      "Encoding... 92.31% \n",
      "Encoding... 96.15% \n",
      "Encoding... 100.0% \n",
      "Wall time: 18min 6s\n"
     ]
    },
    {
     "data": {
      "text/plain": [
       "0.7928159076330982"
      ]
     },
     "execution_count": 27,
     "metadata": {},
     "output_type": "execute_result"
    }
   ],
   "source": [
    "%%time\n",
    "\n",
    "ENC_THR = 10\n",
    "\n",
    "\n",
    "feature_encoder = setup_feature_encoder(cim_generator = cont_item_memory, dim=dim, sparsity=sparsity, percent_max_val=ENC_THR/617, M=M, base_hvs = base_hypervectors, cont_item_mem = cont_item_memory, qlevels = quantize_levels)\n",
    "\n",
    "\n",
    "classifier = HDC_Classifier(encoder=feature_encoder, ACC_THR=ACC_THR)\n",
    "\n",
    "classifier.train()\n",
    "classifier.test()"
   ]
  },
  {
   "cell_type": "code",
   "execution_count": 32,
   "metadata": {},
   "outputs": [
    {
     "name": "stdout",
     "output_type": "stream",
     "text": [
      "Encoding... 3.85% \n"
     ]
    },
    {
     "name": "stderr",
     "output_type": "stream",
     "text": [
      "<ipython-input-8-8a03033bd188>:9: DeprecationWarning: `np.int` is a deprecated alias for the builtin `int`. To silence this warning, use `int` by itself. Doing this will not modify any behavior and is safe. When replacing `np.int`, you may wish to use e.g. `np.int64` or `np.int32` to specify the precision. If you wish to review your current use, check the release note link for additional information.\n",
      "Deprecated in NumPy 1.20; for more details and guidance: https://numpy.org/devdocs/release/1.20.0-notes.html#deprecations\n",
      "  return np.array((hv>self.threshold)).astype(np.int)\n"
     ]
    },
    {
     "name": "stdout",
     "output_type": "stream",
     "text": [
      "Encoding... 7.69% \n",
      "Encoding... 11.54% \n",
      "Encoding... 15.38% \n",
      "Encoding... 19.23% \n",
      "Encoding... 23.08% \n",
      "Encoding... 26.92% \n",
      "Encoding... 30.77% \n",
      "Encoding... 34.62% \n",
      "Encoding... 38.46% \n",
      "Encoding... 42.31% \n",
      "Encoding... 46.15% \n",
      "Encoding... 50.0% \n",
      "Encoding... 53.85% \n",
      "Encoding... 57.69% \n",
      "Encoding... 61.54% \n",
      "Encoding... 65.38% \n",
      "Encoding... 69.23% \n",
      "Encoding... 73.08% \n",
      "Encoding... 76.92% \n",
      "Encoding... 80.77% \n",
      "Encoding... 84.62% \n",
      "Encoding... 88.46% \n",
      "Encoding... 92.31% \n",
      "Encoding... 96.15% \n",
      "Encoding... 100.0% \n",
      "Wall time: 16min 8s\n"
     ]
    },
    {
     "data": {
      "text/plain": [
       "0.8319435535599743"
      ]
     },
     "execution_count": 32,
     "metadata": {},
     "output_type": "execute_result"
    }
   ],
   "source": [
    "%%time\n",
    "\n",
    "ENC_THR = 5\n",
    "\n",
    "\n",
    "feature_encoder = setup_feature_encoder(cim_generator = cont_item_memory, dim=dim, sparsity=sparsity, percent_max_val=ENC_THR/617, M=M, base_hvs = base_hypervectors, cont_item_mem = cont_item_memory, qlevels = quantize_levels)\n",
    "\n",
    "\n",
    "classifier = HDC_Classifier(encoder=feature_encoder, ACC_THR=ACC_THR)\n",
    "\n",
    "classifier.train()\n",
    "classifier.test()"
   ]
  },
  {
   "cell_type": "markdown",
   "metadata": {},
   "source": [
    "# REMEMBER TO CHECK FILENAMES YOU'RE SAVING SO YOU DON'T ACCIDENTALLY OVERWRITE .PKL FILES! \n",
    "## ALSO COMMENT OUT THE SAVE FUNCTION AFTER YOU'RE DONE USING IT"
   ]
  },
  {
   "cell_type": "code",
   "execution_count": 33,
   "metadata": {},
   "outputs": [],
   "source": [
    "# # Save models in the format \"HDC_Classifier_<CIM Method>_<Binding Method>_<Sparsifying Method>_S<sparsity>_D<dimensions>.pkl\"\n",
    "# # e.g. HDCModels.save_model(model=classifier, filename='HDC_Classifier_IM_BIND_TRESH_S0.x_Dxxxxx.pkl')\n",
    "# REMEMBER: DON'T OVERWRITE ALREADY SAVED PKL FILES!!!!\n",
    "#HDCModels.save_model(model=classifier, filename='HDC_Classifier_LCIM_SEG_TRESH_S001_D10000_ENCTHR5_ACCTHR72_83accuracy.pkl')\n",
    "#HDCModels.save_model(model=base_hypervectors, filename='.pkl')\n",
    "#HDCModels.save_model(model=cont_item_memory, filename='.pkl')"
   ]
  },
  {
   "cell_type": "markdown",
   "metadata": {},
   "source": [
    "# QUESTIONS"
   ]
  },
  {
   "cell_type": "code",
   "execution_count": 19,
   "metadata": {},
   "outputs": [],
   "source": [
    "#What if we dont maintain sparsity when bundling the 617 frequency bins?\n"
   ]
  }
 ],
 "metadata": {
  "kernelspec": {
   "display_name": "Python 3",
   "language": "python",
   "name": "python3"
  },
  "language_info": {
   "codemirror_mode": {
    "name": "ipython",
    "version": 3
   },
   "file_extension": ".py",
   "mimetype": "text/x-python",
   "name": "python",
   "nbconvert_exporter": "python",
   "pygments_lexer": "ipython3",
   "version": "3.8.8"
  }
 },
 "nbformat": 4,
 "nbformat_minor": 4
}
